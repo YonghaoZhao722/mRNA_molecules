{
 "cells": [
  {
   "cell_type": "code",
   "execution_count": 2,
   "metadata": {},
   "outputs": [],
   "source": [
    "import os\n",
    "\n",
    "folder_path = r\"G:\\mitochondria_FITC\\Y333 ATP6 ATP3\\outlines_cy5\"\n",
    "\n",
    "for filename in os.listdir(folder_path):\n",
    "    file_path = os.path.join(folder_path, filename)\n",
    "    if os.path.isfile(file_path):\n",
    "        with open(file_path, 'r', encoding='utf-8') as f:\n",
    "            lines = f.readlines()\n",
    "        new_lines = []\n",
    "        for line in lines:\n",
    "            if line.startswith(\"IMG_Raw\"):\n",
    "                line = line.replace(\"w2CY3\", \"w1CY5\")\n",
    "            new_lines.append(line)\n",
    "        with open(file_path, 'w', encoding='utf-8') as f:\n",
    "            f.writelines(new_lines)\n"
   ]
  }
 ],
 "metadata": {
  "kernelspec": {
   "display_name": "bigfish_env",
   "language": "python",
   "name": "python3"
  },
  "language_info": {
   "codemirror_mode": {
    "name": "ipython",
    "version": 3
   },
   "file_extension": ".py",
   "mimetype": "text/x-python",
   "name": "python",
   "nbconvert_exporter": "python",
   "pygments_lexer": "ipython3",
   "version": "3.9.23"
  }
 },
 "nbformat": 4,
 "nbformat_minor": 2
}
